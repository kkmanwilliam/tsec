{
 "cells": [
  {
   "cell_type": "code",
   "execution_count": 51,
   "metadata": {},
   "outputs": [],
   "source": [
    "# -*- coding: utf-8 -*-\n",
    "\n",
    "import os\n",
    "import re\n",
    "import sys\n",
    "import csv\n",
    "import time\n",
    "import string\n",
    "import logging\n",
    "import requests\n",
    "import argparse\n",
    "from datetime import datetime, timedelta\n",
    "import pandas as pd\n",
    "from os import mkdir\n",
    "from os.path import isdir\n",
    "\n",
    "class Crawler():\n",
    "    def __init__(self, prefix=\"data\"):\n",
    "        ''' Make directory if not exist when initialize '''\n",
    "        if not isdir(prefix):\n",
    "            mkdir(prefix)\n",
    "        self.prefix = prefix\n",
    "\n",
    "    def _clean_row(self, row):\n",
    "        ''' Clean comma and spaces '''\n",
    "        for index, content in enumerate(row):\n",
    "            row[index] = re.sub(\",\", \"\", content.strip())\n",
    "        return row\n",
    "\n",
    "    def _record(self, stock_id, row):\n",
    "        ''' Save row to csv file '''\n",
    "        f = open('{}/{}.csv'.format(self.prefix, stock_id), 'a')\n",
    "        cw = csv.writer(f, lineterminator='\\n')\n",
    "        cw.writerow(row)\n",
    "        f.close()\n",
    "\n",
    "    def _get_tse_data(self, date_tuple):\n",
    "        date_str = '{0}{1:02d}{2:02d}'.format(date_tuple[0], date_tuple[1], date_tuple[2])\n",
    "        url = 'http://www.twse.com.tw/exchangeReport/MI_INDEX'\n",
    "\n",
    "        query_params = {\n",
    "            'date': date_str,\n",
    "            'response': 'json',\n",
    "            'type': 'ALL',\n",
    "            '_': str(round(time.time() * 1000) - 500)\n",
    "        }\n",
    "\n",
    "        # Get json data\n",
    "        page = requests.get(url, params=query_params)\n",
    "\n",
    "        if not page.ok:\n",
    "            logging.error(\"Can not get TSE data at {}\".format(date_str))\n",
    "            return\n",
    "\n",
    "        content = page.json()\n",
    "\n",
    "        # For compatible with original data\n",
    "        date_str_mingguo = '{0}/{1:02d}/{2:02d}'.format(date_tuple[0] - 1911, date_tuple[1], date_tuple[2])\n",
    "\n",
    "        for data in content['data9']:\n",
    "            sign = '-' if data[9].find('green') > 0 else ''\n",
    "            row = self._clean_row([\n",
    "                date_str_mingguo, # 日期\n",
    "                data[2], # 成交股數\n",
    "                data[4], # 成交金額\n",
    "                data[5], # 開盤價\n",
    "                data[6], # 最高價\n",
    "                data[7], # 最低價\n",
    "                data[8], # 收盤價\n",
    "                sign + data[10], # 漲跌價差\n",
    "                data[3], # 成交筆數\n",
    "            ])\n",
    "\n",
    "            self._record(data[0].strip(), row)\n",
    "\n",
    "    def _get_otc_data(self, date_tuple):\n",
    "        date_str = '{0}/{1:02d}/{2:02d}'.format(date_tuple[0] - 1911, date_tuple[1], date_tuple[2])\n",
    "        ttime = str(int(time.time()*100))\n",
    "        url = 'http://www.tpex.org.tw/web/stock/aftertrading/daily_close_quotes/stk_quote_result.php?l=zh-tw&d={}&_={}'.format(date_str, ttime)\n",
    "        page = requests.get(url)\n",
    "\n",
    "        if not page.ok:\n",
    "            logging.error(\"Can not get OTC data at {}\".format(date_str))\n",
    "            return\n",
    "\n",
    "        result = page.json()\n",
    "\n",
    "        if result['reportDate'] != date_str:\n",
    "            logging.error(\"Get error date OTC data at {}\".format(date_str))\n",
    "            return\n",
    "\n",
    "        for table in [result['mmData'], result['aaData']]:\n",
    "            for tr in table:\n",
    "                row = self._clean_row([\n",
    "                    date_str,\n",
    "                    tr[8], # 成交股數\n",
    "                    tr[9], # 成交金額\n",
    "                    tr[4], # 開盤價\n",
    "                    tr[5], # 最高價\n",
    "                    tr[6], # 最低價\n",
    "                    tr[2], # 收盤價\n",
    "                    tr[3], # 漲跌價差\n",
    "                    tr[10] # 成交筆數\n",
    "                ])\n",
    "                self._record(tr[0], row)\n",
    "\n",
    "\n",
    "    def get_data(self, date_tuple):\n",
    "        print('Crawling {}'.format(date_tuple))\n",
    "        self._get_tse_data(date_tuple)\n",
    "        self._get_otc_data(date_tuple)"
   ]
  },
  {
   "cell_type": "code",
   "execution_count": 67,
   "metadata": {},
   "outputs": [
    {
     "data": {
      "text/plain": [
       "_StoreTrueAction(option_strings=['-c', '--check'], dest='check', nargs=0, const=True, default=False, type=None, choices=None, help='crawl back 10 days for check data', metavar=None)"
      ]
     },
     "execution_count": 67,
     "metadata": {},
     "output_type": "execute_result"
    }
   ],
   "source": [
    "if not os.path.isdir('log'):\n",
    "    os.makedirs('log')\n",
    "logging.basicConfig(filename='log/crawl-error.log',\n",
    "    level=logging.ERROR,\n",
    "    format='%(asctime)s\\t[%(levelname)s]\\t%(message)s',\n",
    "    datefmt='%Y/%m/%d %H:%M:%S')\n",
    "\n",
    "# Get arguments\n",
    "parser = argparse.ArgumentParser(description='Crawl data at assigned day')\n",
    "parser.add_argument('day', type=int, nargs='*',\n",
    "    help='assigned day (format: YYYY MM DD), default is today')\n",
    "parser.add_argument('-b', '--back', action='store_true',\n",
    "    help='crawl back from assigned day until 2004/2/11')\n",
    "parser.add_argument('-c', '--check', action='store_true',\n",
    "    help='crawl back 10 days for check data')"
   ]
  },
  {
   "cell_type": "code",
   "execution_count": 73,
   "metadata": {},
   "outputs": [
    {
     "name": "stdout",
     "output_type": "stream",
     "text": [
      "Crawling (2019, 9, 19)\n",
      "Crawling (2019, 9, 18)\n",
      "Crawling (2019, 9, 17)\n",
      "Crawling (2019, 9, 16)\n",
      "Crawling (2019, 9, 15)\n"
     ]
    },
    {
     "name": "stderr",
     "output_type": "stream",
     "text": [
      "ERROR:root:Crawl raise error 2019/09/15\n"
     ]
    },
    {
     "name": "stdout",
     "output_type": "stream",
     "text": [
      "Crawling (2019, 9, 14)\n"
     ]
    },
    {
     "name": "stderr",
     "output_type": "stream",
     "text": [
      "ERROR:root:Crawl raise error 2019/09/14\n"
     ]
    },
    {
     "name": "stdout",
     "output_type": "stream",
     "text": [
      "Crawling (2019, 9, 13)\n"
     ]
    },
    {
     "name": "stderr",
     "output_type": "stream",
     "text": [
      "ERROR:root:Crawl raise error 2019/09/13\n"
     ]
    },
    {
     "name": "stdout",
     "output_type": "stream",
     "text": [
      "Crawling (2019, 9, 12)\n",
      "Crawling (2019, 9, 11)\n",
      "Crawling (2019, 9, 10)\n",
      "Crawling (2019, 9, 9)\n",
      "Crawling (2019, 9, 8)\n"
     ]
    },
    {
     "name": "stderr",
     "output_type": "stream",
     "text": [
      "ERROR:root:Crawl raise error 2019/09/08\n"
     ]
    },
    {
     "name": "stdout",
     "output_type": "stream",
     "text": [
      "Crawling (2019, 9, 7)\n"
     ]
    },
    {
     "name": "stderr",
     "output_type": "stream",
     "text": [
      "ERROR:root:Crawl raise error 2019/09/07\n"
     ]
    },
    {
     "name": "stdout",
     "output_type": "stream",
     "text": [
      "Crawling (2019, 9, 6)\n",
      "Crawling (2019, 9, 5)\n",
      "Crawling (2019, 9, 4)\n",
      "Crawling (2019, 9, 3)\n",
      "Crawling (2019, 9, 2)\n",
      "Crawling (2019, 9, 1)\n"
     ]
    },
    {
     "name": "stderr",
     "output_type": "stream",
     "text": [
      "ERROR:root:Crawl raise error 2019/09/01\n"
     ]
    },
    {
     "name": "stdout",
     "output_type": "stream",
     "text": [
      "Crawling (2019, 8, 31)\n"
     ]
    },
    {
     "name": "stderr",
     "output_type": "stream",
     "text": [
      "ERROR:root:Crawl raise error 2019/08/31\n"
     ]
    },
    {
     "name": "stdout",
     "output_type": "stream",
     "text": [
      "Crawling (2019, 8, 30)\n",
      "Crawling (2019, 8, 29)\n",
      "Crawling (2019, 8, 28)\n",
      "Crawling (2019, 8, 27)\n",
      "Crawling (2019, 8, 26)\n",
      "Crawling (2019, 8, 25)\n"
     ]
    },
    {
     "name": "stderr",
     "output_type": "stream",
     "text": [
      "ERROR:root:Crawl raise error 2019/08/25\n"
     ]
    },
    {
     "name": "stdout",
     "output_type": "stream",
     "text": [
      "Crawling (2019, 8, 24)\n"
     ]
    },
    {
     "name": "stderr",
     "output_type": "stream",
     "text": [
      "ERROR:root:Crawl raise error 2019/08/24\n"
     ]
    },
    {
     "name": "stdout",
     "output_type": "stream",
     "text": [
      "Crawling (2019, 8, 23)\n",
      "Crawling (2019, 8, 22)\n",
      "Crawling (2019, 8, 21)\n",
      "Crawling (2019, 8, 20)\n",
      "Crawling (2019, 8, 19)\n",
      "Crawling (2019, 8, 18)\n"
     ]
    },
    {
     "name": "stderr",
     "output_type": "stream",
     "text": [
      "ERROR:root:Crawl raise error 2019/08/18\n"
     ]
    },
    {
     "name": "stdout",
     "output_type": "stream",
     "text": [
      "Crawling (2019, 8, 17)\n"
     ]
    },
    {
     "name": "stderr",
     "output_type": "stream",
     "text": [
      "ERROR:root:Crawl raise error 2019/08/17\n"
     ]
    },
    {
     "name": "stdout",
     "output_type": "stream",
     "text": [
      "Crawling (2019, 8, 16)\n",
      "Crawling (2019, 8, 15)\n",
      "Crawling (2019, 8, 14)\n",
      "Crawling (2019, 8, 13)\n",
      "Crawling (2019, 8, 12)\n",
      "Crawling (2019, 8, 11)\n"
     ]
    },
    {
     "name": "stderr",
     "output_type": "stream",
     "text": [
      "ERROR:root:Crawl raise error 2019/08/11\n"
     ]
    },
    {
     "name": "stdout",
     "output_type": "stream",
     "text": [
      "Crawling (2019, 8, 10)\n"
     ]
    },
    {
     "name": "stderr",
     "output_type": "stream",
     "text": [
      "ERROR:root:Crawl raise error 2019/08/10\n"
     ]
    },
    {
     "name": "stdout",
     "output_type": "stream",
     "text": [
      "Crawling (2019, 8, 9)\n"
     ]
    },
    {
     "name": "stderr",
     "output_type": "stream",
     "text": [
      "ERROR:root:Crawl raise error 2019/08/09\n"
     ]
    },
    {
     "name": "stdout",
     "output_type": "stream",
     "text": [
      "Crawling (2019, 8, 8)\n",
      "Crawling (2019, 8, 7)\n",
      "Crawling (2019, 8, 6)\n",
      "Crawling (2019, 8, 5)\n",
      "Crawling (2019, 8, 4)\n"
     ]
    },
    {
     "name": "stderr",
     "output_type": "stream",
     "text": [
      "ERROR:root:Crawl raise error 2019/08/04\n"
     ]
    },
    {
     "name": "stdout",
     "output_type": "stream",
     "text": [
      "Crawling (2019, 8, 3)\n"
     ]
    },
    {
     "name": "stderr",
     "output_type": "stream",
     "text": [
      "ERROR:root:Crawl raise error 2019/08/03\n"
     ]
    },
    {
     "name": "stdout",
     "output_type": "stream",
     "text": [
      "Crawling (2019, 8, 2)\n",
      "Crawling (2019, 8, 1)\n",
      "Crawling (2019, 7, 31)\n",
      "Crawling (2019, 7, 30)\n",
      "Crawling (2019, 7, 29)\n",
      "Crawling (2019, 7, 28)\n"
     ]
    },
    {
     "name": "stderr",
     "output_type": "stream",
     "text": [
      "ERROR:root:Crawl raise error 2019/07/28\n"
     ]
    },
    {
     "name": "stdout",
     "output_type": "stream",
     "text": [
      "Crawling (2019, 7, 27)\n"
     ]
    },
    {
     "name": "stderr",
     "output_type": "stream",
     "text": [
      "ERROR:root:Crawl raise error 2019/07/27\n"
     ]
    },
    {
     "name": "stdout",
     "output_type": "stream",
     "text": [
      "Crawling (2019, 7, 26)\n",
      "Crawling (2019, 7, 25)\n",
      "Crawling (2019, 7, 24)\n",
      "Crawling (2019, 7, 23)\n",
      "Crawling (2019, 7, 22)\n",
      "Crawling (2019, 7, 21)\n"
     ]
    },
    {
     "name": "stderr",
     "output_type": "stream",
     "text": [
      "ERROR:root:Crawl raise error 2019/07/21\n"
     ]
    },
    {
     "name": "stdout",
     "output_type": "stream",
     "text": [
      "Crawling (2019, 7, 20)\n"
     ]
    },
    {
     "name": "stderr",
     "output_type": "stream",
     "text": [
      "ERROR:root:Crawl raise error 2019/07/20\n"
     ]
    },
    {
     "name": "stdout",
     "output_type": "stream",
     "text": [
      "Crawling (2019, 7, 19)\n",
      "Crawling (2019, 7, 18)\n",
      "Crawling (2019, 7, 17)\n",
      "Crawling (2019, 7, 16)\n",
      "Crawling (2019, 7, 15)\n",
      "Crawling (2019, 7, 14)\n"
     ]
    },
    {
     "name": "stderr",
     "output_type": "stream",
     "text": [
      "ERROR:root:Crawl raise error 2019/07/14\n"
     ]
    },
    {
     "name": "stdout",
     "output_type": "stream",
     "text": [
      "Crawling (2019, 7, 13)\n"
     ]
    },
    {
     "name": "stderr",
     "output_type": "stream",
     "text": [
      "ERROR:root:Crawl raise error 2019/07/13\n"
     ]
    },
    {
     "name": "stdout",
     "output_type": "stream",
     "text": [
      "Crawling (2019, 7, 12)\n",
      "Crawling (2019, 7, 11)\n",
      "Crawling (2019, 7, 10)\n",
      "Crawling (2019, 7, 9)\n",
      "Crawling (2019, 7, 8)\n",
      "Crawling (2019, 7, 7)\n"
     ]
    },
    {
     "name": "stderr",
     "output_type": "stream",
     "text": [
      "ERROR:root:Crawl raise error 2019/07/07\n"
     ]
    },
    {
     "name": "stdout",
     "output_type": "stream",
     "text": [
      "Crawling (2019, 7, 6)\n"
     ]
    },
    {
     "name": "stderr",
     "output_type": "stream",
     "text": [
      "ERROR:root:Crawl raise error 2019/07/06\n"
     ]
    },
    {
     "name": "stdout",
     "output_type": "stream",
     "text": [
      "Crawling (2019, 7, 5)\n",
      "Crawling (2019, 7, 4)\n",
      "Crawling (2019, 7, 3)\n",
      "Crawling (2019, 7, 2)\n",
      "Crawling (2019, 7, 1)\n",
      "Crawling (2019, 6, 30)\n"
     ]
    },
    {
     "name": "stderr",
     "output_type": "stream",
     "text": [
      "ERROR:root:Crawl raise error 2019/06/30\n"
     ]
    },
    {
     "name": "stdout",
     "output_type": "stream",
     "text": [
      "Crawling (2019, 6, 29)\n"
     ]
    },
    {
     "name": "stderr",
     "output_type": "stream",
     "text": [
      "ERROR:root:Crawl raise error 2019/06/29\n"
     ]
    },
    {
     "name": "stdout",
     "output_type": "stream",
     "text": [
      "Crawling (2019, 6, 28)\n",
      "Crawling (2019, 6, 27)\n",
      "Crawling (2019, 6, 26)\n",
      "Crawling (2019, 6, 25)\n",
      "Crawling (2019, 6, 24)\n",
      "Crawling (2019, 6, 23)\n"
     ]
    },
    {
     "name": "stderr",
     "output_type": "stream",
     "text": [
      "ERROR:root:Crawl raise error 2019/06/23\n"
     ]
    },
    {
     "name": "stdout",
     "output_type": "stream",
     "text": [
      "Crawling (2019, 6, 22)\n"
     ]
    },
    {
     "name": "stderr",
     "output_type": "stream",
     "text": [
      "ERROR:root:Crawl raise error 2019/06/22\n"
     ]
    },
    {
     "name": "stdout",
     "output_type": "stream",
     "text": [
      "Crawling (2019, 6, 21)\n",
      "Crawling (2019, 6, 20)\n",
      "Crawling (2019, 6, 19)\n",
      "Crawling (2019, 6, 18)\n",
      "Crawling (2019, 6, 17)\n",
      "Crawling (2019, 6, 16)\n"
     ]
    },
    {
     "name": "stderr",
     "output_type": "stream",
     "text": [
      "ERROR:root:Crawl raise error 2019/06/16\n"
     ]
    },
    {
     "name": "stdout",
     "output_type": "stream",
     "text": [
      "Crawling (2019, 6, 15)\n"
     ]
    },
    {
     "name": "stderr",
     "output_type": "stream",
     "text": [
      "ERROR:root:Crawl raise error 2019/06/15\n"
     ]
    },
    {
     "name": "stdout",
     "output_type": "stream",
     "text": [
      "Crawling (2019, 6, 14)\n",
      "Crawling (2019, 6, 13)\n",
      "Crawling (2019, 6, 12)\n",
      "Crawling (2019, 6, 11)\n",
      "Crawling (2019, 6, 10)\n",
      "Crawling (2019, 6, 9)\n"
     ]
    },
    {
     "name": "stderr",
     "output_type": "stream",
     "text": [
      "ERROR:root:Crawl raise error 2019/06/09\n"
     ]
    },
    {
     "name": "stdout",
     "output_type": "stream",
     "text": [
      "Crawling (2019, 6, 8)\n"
     ]
    },
    {
     "name": "stderr",
     "output_type": "stream",
     "text": [
      "ERROR:root:Crawl raise error 2019/06/08\n"
     ]
    },
    {
     "name": "stdout",
     "output_type": "stream",
     "text": [
      "Crawling (2019, 6, 7)\n"
     ]
    },
    {
     "name": "stderr",
     "output_type": "stream",
     "text": [
      "ERROR:root:Crawl raise error 2019/06/07\n"
     ]
    },
    {
     "name": "stdout",
     "output_type": "stream",
     "text": [
      "Crawling (2019, 6, 6)\n",
      "Crawling (2019, 6, 5)\n",
      "Crawling (2019, 6, 4)\n",
      "Crawling (2019, 6, 3)\n",
      "Crawling (2019, 6, 2)\n"
     ]
    },
    {
     "name": "stderr",
     "output_type": "stream",
     "text": [
      "ERROR:root:Crawl raise error 2019/06/02\n"
     ]
    },
    {
     "name": "stdout",
     "output_type": "stream",
     "text": [
      "Crawling (2019, 6, 1)\n"
     ]
    },
    {
     "name": "stderr",
     "output_type": "stream",
     "text": [
      "ERROR:root:Crawl raise error 2019/06/01\n"
     ]
    },
    {
     "name": "stdout",
     "output_type": "stream",
     "text": [
      "Crawling (2019, 5, 31)\n",
      "Crawling (2019, 5, 30)\n",
      "Crawling (2019, 5, 29)\n",
      "Crawling (2019, 5, 28)\n",
      "Crawling (2019, 5, 27)\n",
      "Crawling (2019, 5, 26)\n"
     ]
    },
    {
     "name": "stderr",
     "output_type": "stream",
     "text": [
      "ERROR:root:Crawl raise error 2019/05/26\n"
     ]
    },
    {
     "name": "stdout",
     "output_type": "stream",
     "text": [
      "Crawling (2019, 5, 25)\n"
     ]
    },
    {
     "name": "stderr",
     "output_type": "stream",
     "text": [
      "ERROR:root:Crawl raise error 2019/05/25\n"
     ]
    },
    {
     "name": "stdout",
     "output_type": "stream",
     "text": [
      "Crawling (2019, 5, 24)\n",
      "Crawling (2019, 5, 23)\n",
      "Crawling (2019, 5, 22)\n",
      "Crawling (2019, 5, 21)\n",
      "Crawling (2019, 5, 20)\n",
      "Crawling (2019, 5, 19)\n"
     ]
    },
    {
     "name": "stderr",
     "output_type": "stream",
     "text": [
      "ERROR:root:Crawl raise error 2019/05/19\n"
     ]
    },
    {
     "name": "stdout",
     "output_type": "stream",
     "text": [
      "Crawling (2019, 5, 18)\n"
     ]
    },
    {
     "name": "stderr",
     "output_type": "stream",
     "text": [
      "ERROR:root:Crawl raise error 2019/05/18\n"
     ]
    },
    {
     "name": "stdout",
     "output_type": "stream",
     "text": [
      "Crawling (2019, 5, 17)\n",
      "Crawling (2019, 5, 16)\n",
      "Crawling (2019, 5, 15)\n",
      "Crawling (2019, 5, 14)\n",
      "Crawling (2019, 5, 13)\n",
      "Crawling (2019, 5, 12)\n"
     ]
    },
    {
     "name": "stderr",
     "output_type": "stream",
     "text": [
      "ERROR:root:Crawl raise error 2019/05/12\n"
     ]
    },
    {
     "name": "stdout",
     "output_type": "stream",
     "text": [
      "Crawling (2019, 5, 11)\n"
     ]
    },
    {
     "name": "stderr",
     "output_type": "stream",
     "text": [
      "ERROR:root:Crawl raise error 2019/05/11\n"
     ]
    },
    {
     "name": "stdout",
     "output_type": "stream",
     "text": [
      "Crawling (2019, 5, 10)\n",
      "Crawling (2019, 5, 9)\n",
      "Crawling (2019, 5, 8)\n",
      "Crawling (2019, 5, 7)\n",
      "Crawling (2019, 5, 6)\n",
      "Crawling (2019, 5, 5)\n"
     ]
    },
    {
     "name": "stderr",
     "output_type": "stream",
     "text": [
      "ERROR:root:Crawl raise error 2019/05/05\n"
     ]
    },
    {
     "name": "stdout",
     "output_type": "stream",
     "text": [
      "Crawling (2019, 5, 4)\n"
     ]
    },
    {
     "name": "stderr",
     "output_type": "stream",
     "text": [
      "ERROR:root:Crawl raise error 2019/05/04\n"
     ]
    },
    {
     "name": "stdout",
     "output_type": "stream",
     "text": [
      "Crawling (2019, 5, 3)\n",
      "Crawling (2019, 5, 2)\n",
      "Crawling (2019, 5, 1)\n"
     ]
    },
    {
     "name": "stderr",
     "output_type": "stream",
     "text": [
      "ERROR:root:Crawl raise error 2019/05/01\n"
     ]
    },
    {
     "name": "stdout",
     "output_type": "stream",
     "text": [
      "Crawling (2019, 4, 30)\n",
      "Crawling (2019, 4, 29)\n",
      "Crawling (2019, 4, 28)\n"
     ]
    },
    {
     "name": "stderr",
     "output_type": "stream",
     "text": [
      "ERROR:root:Crawl raise error 2019/04/28\n"
     ]
    },
    {
     "name": "stdout",
     "output_type": "stream",
     "text": [
      "Crawling (2019, 4, 27)\n"
     ]
    },
    {
     "name": "stderr",
     "output_type": "stream",
     "text": [
      "ERROR:root:Crawl raise error 2019/04/27\n"
     ]
    },
    {
     "name": "stdout",
     "output_type": "stream",
     "text": [
      "Crawling (2019, 4, 26)\n",
      "Crawling (2019, 4, 25)\n",
      "Crawling (2019, 4, 24)\n",
      "Crawling (2019, 4, 23)\n",
      "Crawling (2019, 4, 22)\n",
      "Crawling (2019, 4, 21)\n"
     ]
    },
    {
     "name": "stderr",
     "output_type": "stream",
     "text": [
      "ERROR:root:Crawl raise error 2019/04/21\n"
     ]
    },
    {
     "name": "stdout",
     "output_type": "stream",
     "text": [
      "Crawling (2019, 4, 20)\n"
     ]
    },
    {
     "name": "stderr",
     "output_type": "stream",
     "text": [
      "ERROR:root:Crawl raise error 2019/04/20\n"
     ]
    },
    {
     "name": "stdout",
     "output_type": "stream",
     "text": [
      "Crawling (2019, 4, 19)\n",
      "Crawling (2019, 4, 18)\n",
      "Crawling (2019, 4, 17)\n",
      "Crawling (2019, 4, 16)\n",
      "Crawling (2019, 4, 15)\n",
      "Crawling (2019, 4, 14)\n"
     ]
    },
    {
     "name": "stderr",
     "output_type": "stream",
     "text": [
      "ERROR:root:Crawl raise error 2019/04/14\n"
     ]
    },
    {
     "name": "stdout",
     "output_type": "stream",
     "text": [
      "Crawling (2019, 4, 13)\n"
     ]
    },
    {
     "name": "stderr",
     "output_type": "stream",
     "text": [
      "ERROR:root:Crawl raise error 2019/04/13\n"
     ]
    },
    {
     "name": "stdout",
     "output_type": "stream",
     "text": [
      "Crawling (2019, 4, 12)\n",
      "Crawling (2019, 4, 11)\n",
      "Crawling (2019, 4, 10)\n",
      "Crawling (2019, 4, 9)\n",
      "Crawling (2019, 4, 8)\n",
      "Crawling (2019, 4, 7)\n"
     ]
    },
    {
     "name": "stderr",
     "output_type": "stream",
     "text": [
      "ERROR:root:Crawl raise error 2019/04/07\n"
     ]
    },
    {
     "name": "stdout",
     "output_type": "stream",
     "text": [
      "Crawling (2019, 4, 6)\n"
     ]
    },
    {
     "name": "stderr",
     "output_type": "stream",
     "text": [
      "ERROR:root:Crawl raise error 2019/04/06\n"
     ]
    },
    {
     "name": "stdout",
     "output_type": "stream",
     "text": [
      "Crawling (2019, 4, 5)\n"
     ]
    },
    {
     "name": "stderr",
     "output_type": "stream",
     "text": [
      "ERROR:root:Crawl raise error 2019/04/05\n"
     ]
    },
    {
     "name": "stdout",
     "output_type": "stream",
     "text": [
      "Crawling (2019, 4, 4)\n"
     ]
    },
    {
     "name": "stderr",
     "output_type": "stream",
     "text": [
      "ERROR:root:Crawl raise error 2019/04/04\n"
     ]
    },
    {
     "name": "stdout",
     "output_type": "stream",
     "text": [
      "Crawling (2019, 4, 3)\n",
      "Crawling (2019, 4, 2)\n",
      "Crawling (2019, 4, 1)\n",
      "Crawling (2019, 3, 31)\n"
     ]
    },
    {
     "name": "stderr",
     "output_type": "stream",
     "text": [
      "ERROR:root:Crawl raise error 2019/03/31\n"
     ]
    },
    {
     "name": "stdout",
     "output_type": "stream",
     "text": [
      "Crawling (2019, 3, 30)\n"
     ]
    },
    {
     "name": "stderr",
     "output_type": "stream",
     "text": [
      "ERROR:root:Crawl raise error 2019/03/30\n"
     ]
    },
    {
     "name": "stdout",
     "output_type": "stream",
     "text": [
      "Crawling (2019, 3, 29)\n",
      "Crawling (2019, 3, 28)\n",
      "Crawling (2019, 3, 27)\n",
      "Crawling (2019, 3, 26)\n",
      "Crawling (2019, 3, 25)\n",
      "Crawling (2019, 3, 24)\n"
     ]
    },
    {
     "name": "stderr",
     "output_type": "stream",
     "text": [
      "ERROR:root:Crawl raise error 2019/03/24\n"
     ]
    },
    {
     "name": "stdout",
     "output_type": "stream",
     "text": [
      "Crawling (2019, 3, 23)\n"
     ]
    },
    {
     "name": "stderr",
     "output_type": "stream",
     "text": [
      "ERROR:root:Crawl raise error 2019/03/23\n"
     ]
    },
    {
     "name": "stdout",
     "output_type": "stream",
     "text": [
      "Crawling (2019, 3, 22)\n",
      "Crawling (2019, 3, 21)\n",
      "Crawling (2019, 3, 20)\n",
      "Crawling (2019, 3, 19)\n",
      "Crawling (2019, 3, 18)\n"
     ]
    },
    {
     "name": "stderr",
     "output_type": "stream",
     "text": [
      "ERROR:root:Crawl raise error 2019/03/18\n"
     ]
    },
    {
     "name": "stdout",
     "output_type": "stream",
     "text": [
      "Crawling (2019, 3, 17)\n"
     ]
    },
    {
     "name": "stderr",
     "output_type": "stream",
     "text": [
      "ERROR:root:Crawl raise error 2019/03/17\n"
     ]
    },
    {
     "name": "stdout",
     "output_type": "stream",
     "text": [
      "Crawling (2019, 3, 16)\n"
     ]
    },
    {
     "name": "stderr",
     "output_type": "stream",
     "text": [
      "ERROR:root:Crawl raise error 2019/03/16\n"
     ]
    },
    {
     "name": "stdout",
     "output_type": "stream",
     "text": [
      "Crawling (2019, 3, 15)\n",
      "Crawling (2019, 3, 14)\n",
      "Crawling (2019, 3, 13)\n",
      "Crawling (2019, 3, 12)\n",
      "Crawling (2019, 3, 11)\n"
     ]
    },
    {
     "name": "stderr",
     "output_type": "stream",
     "text": [
      "ERROR:root:Crawl raise error 2019/03/10\n"
     ]
    },
    {
     "name": "stdout",
     "output_type": "stream",
     "text": [
      "Crawling (2019, 3, 10)\n",
      "Crawling (2019, 3, 9)\n"
     ]
    },
    {
     "name": "stderr",
     "output_type": "stream",
     "text": [
      "ERROR:root:Crawl raise error 2019/03/09\n"
     ]
    },
    {
     "name": "stdout",
     "output_type": "stream",
     "text": [
      "Crawling (2019, 3, 8)\n",
      "Crawling (2019, 3, 7)\n",
      "Crawling (2019, 3, 6)\n",
      "Crawling (2019, 3, 5)\n",
      "Crawling (2019, 3, 4)\n",
      "Crawling (2019, 3, 3)\n"
     ]
    },
    {
     "name": "stderr",
     "output_type": "stream",
     "text": [
      "ERROR:root:Crawl raise error 2019/03/03\n"
     ]
    },
    {
     "name": "stdout",
     "output_type": "stream",
     "text": [
      "Crawling (2019, 3, 2)\n"
     ]
    },
    {
     "name": "stderr",
     "output_type": "stream",
     "text": [
      "ERROR:root:Crawl raise error 2019/03/02\n"
     ]
    },
    {
     "name": "stdout",
     "output_type": "stream",
     "text": [
      "Crawling (2019, 3, 1)\n"
     ]
    },
    {
     "name": "stderr",
     "output_type": "stream",
     "text": [
      "ERROR:root:Crawl raise error 2019/03/01\n"
     ]
    },
    {
     "name": "stdout",
     "output_type": "stream",
     "text": [
      "Crawling (2019, 2, 28)\n"
     ]
    },
    {
     "name": "stderr",
     "output_type": "stream",
     "text": [
      "ERROR:root:Crawl raise error 2019/02/28\n"
     ]
    },
    {
     "name": "stdout",
     "output_type": "stream",
     "text": [
      "Crawling (2019, 2, 27)\n",
      "Crawling (2019, 2, 26)\n",
      "Crawling (2019, 2, 25)\n",
      "Crawling (2019, 2, 24)\n"
     ]
    },
    {
     "name": "stderr",
     "output_type": "stream",
     "text": [
      "ERROR:root:Crawl raise error 2019/02/24\n"
     ]
    },
    {
     "name": "stdout",
     "output_type": "stream",
     "text": [
      "Crawling (2019, 2, 23)\n"
     ]
    },
    {
     "name": "stderr",
     "output_type": "stream",
     "text": [
      "ERROR:root:Crawl raise error 2019/02/23\n"
     ]
    },
    {
     "name": "stdout",
     "output_type": "stream",
     "text": [
      "Crawling (2019, 2, 22)\n",
      "Crawling (2019, 2, 21)\n",
      "Crawling (2019, 2, 20)\n",
      "Crawling (2019, 2, 19)\n",
      "Crawling (2019, 2, 18)\n",
      "Crawling (2019, 2, 17)\n"
     ]
    },
    {
     "name": "stderr",
     "output_type": "stream",
     "text": [
      "ERROR:root:Crawl raise error 2019/02/17\n"
     ]
    },
    {
     "name": "stdout",
     "output_type": "stream",
     "text": [
      "Crawling (2019, 2, 16)\n"
     ]
    },
    {
     "name": "stderr",
     "output_type": "stream",
     "text": [
      "ERROR:root:Crawl raise error 2019/02/16\n"
     ]
    },
    {
     "name": "stdout",
     "output_type": "stream",
     "text": [
      "Crawling (2019, 2, 15)\n",
      "Crawling (2019, 2, 14)\n",
      "Crawling (2019, 2, 13)\n",
      "Crawling (2019, 2, 12)\n",
      "Crawling (2019, 2, 11)\n",
      "Crawling (2019, 2, 10)\n"
     ]
    },
    {
     "name": "stderr",
     "output_type": "stream",
     "text": [
      "ERROR:root:Crawl raise error 2019/02/10\n"
     ]
    },
    {
     "name": "stdout",
     "output_type": "stream",
     "text": [
      "Crawling (2019, 2, 9)\n"
     ]
    },
    {
     "name": "stderr",
     "output_type": "stream",
     "text": [
      "ERROR:root:Crawl raise error 2019/02/09\n"
     ]
    },
    {
     "name": "stdout",
     "output_type": "stream",
     "text": [
      "Crawling (2019, 2, 8)\n"
     ]
    },
    {
     "name": "stderr",
     "output_type": "stream",
     "text": [
      "ERROR:root:Crawl raise error 2019/02/08\n"
     ]
    },
    {
     "name": "stdout",
     "output_type": "stream",
     "text": [
      "Crawling (2019, 2, 7)\n"
     ]
    },
    {
     "name": "stderr",
     "output_type": "stream",
     "text": [
      "ERROR:root:Crawl raise error 2019/02/07\n"
     ]
    },
    {
     "name": "stdout",
     "output_type": "stream",
     "text": [
      "Crawling (2019, 2, 6)\n"
     ]
    },
    {
     "name": "stderr",
     "output_type": "stream",
     "text": [
      "ERROR:root:Crawl raise error 2019/02/06\n"
     ]
    }
   ],
   "source": [
    "first_day = datetime.today()\n",
    "last_day = datetime(2004, 2, 11)\n",
    "crawler = Crawler()\n",
    "max_error = 5\n",
    "error_times = 0\n",
    "while error_times < max_error and first_day >= last_day:\n",
    "    try:\n",
    "        crawler.get_data((first_day.year, first_day.month, first_day.day))\n",
    "        error_times = 0\n",
    "    except:\n",
    "        date_str = first_day.strftime('%Y/%m/%d')\n",
    "        logging.error('Crawl raise error {}'.format(date_str))\n",
    "        error_times += 1\n",
    "        continue\n",
    "    finally:\n",
    "        first_day -= timedelta(1)"
   ]
  },
  {
   "cell_type": "code",
   "execution_count": 18,
   "metadata": {},
   "outputs": [
    {
     "name": "stdout",
     "output_type": "stream",
     "text": [
      "<class 'str'>\n"
     ]
    }
   ],
   "source": [
    "FOLDER = 'data'\n",
    "file_name = \"9110.csv\"\n",
    "dict_rows = {}\n",
    "\n",
    "# Load and remove duplicates (use newer)\n",
    "with open('{}/{}'.format(FOLDER, file_name), 'r') as file:\n",
    "    for line in file.readlines():\n",
    "        dict_rows[line.split(',', 1)[0]] = line\n",
    "\n",
    "dict_rows['108/02/11']"
   ]
  },
  {
   "cell_type": "code",
   "execution_count": 101,
   "metadata": {},
   "outputs": [
    {
     "data": {
      "text/html": [
       "<div>\n",
       "<style scoped>\n",
       "    .dataframe tbody tr th:only-of-type {\n",
       "        vertical-align: middle;\n",
       "    }\n",
       "\n",
       "    .dataframe tbody tr th {\n",
       "        vertical-align: top;\n",
       "    }\n",
       "\n",
       "    .dataframe thead th {\n",
       "        text-align: right;\n",
       "    }\n",
       "</style>\n",
       "<table border=\"1\" class=\"dataframe\">\n",
       "  <thead>\n",
       "    <tr style=\"text-align: right;\">\n",
       "      <th></th>\n",
       "      <th>Created_at</th>\n",
       "      <th>Date</th>\n",
       "    </tr>\n",
       "  </thead>\n",
       "  <tbody>\n",
       "    <tr>\n",
       "      <th>0</th>\n",
       "      <td>2019-09-20 23:46:42.918175</td>\n",
       "      <td>83/09/05</td>\n",
       "    </tr>\n",
       "    <tr>\n",
       "      <th>1</th>\n",
       "      <td>2019-09-20 23:46:42.922874</td>\n",
       "      <td>83/09/06</td>\n",
       "    </tr>\n",
       "    <tr>\n",
       "      <th>2</th>\n",
       "      <td>2019-09-20 23:46:42.930208</td>\n",
       "      <td>83/09/07</td>\n",
       "    </tr>\n",
       "    <tr>\n",
       "      <th>3</th>\n",
       "      <td>2019-09-20 23:46:42.936231</td>\n",
       "      <td>83/09/08</td>\n",
       "    </tr>\n",
       "    <tr>\n",
       "      <th>4</th>\n",
       "      <td>2019-09-20 23:46:42.940320</td>\n",
       "      <td>83/09/09</td>\n",
       "    </tr>\n",
       "    <tr>\n",
       "      <th>5</th>\n",
       "      <td>2019-09-20 23:46:42.944173</td>\n",
       "      <td>83/09/10</td>\n",
       "    </tr>\n",
       "    <tr>\n",
       "      <th>6</th>\n",
       "      <td>2019-09-20 23:46:42.947211</td>\n",
       "      <td>83/09/12</td>\n",
       "    </tr>\n",
       "    <tr>\n",
       "      <th>7</th>\n",
       "      <td>2019-09-20 23:46:42.950897</td>\n",
       "      <td>83/09/13</td>\n",
       "    </tr>\n",
       "    <tr>\n",
       "      <th>8</th>\n",
       "      <td>2019-09-20 23:46:42.958859</td>\n",
       "      <td>83/09/14</td>\n",
       "    </tr>\n",
       "    <tr>\n",
       "      <th>9</th>\n",
       "      <td>2019-09-20 23:46:42.963615</td>\n",
       "      <td>83/09/15</td>\n",
       "    </tr>\n",
       "    <tr>\n",
       "      <th>10</th>\n",
       "      <td>2019-09-20 23:46:43.019124</td>\n",
       "      <td>83/09/16</td>\n",
       "    </tr>\n",
       "    <tr>\n",
       "      <th>11</th>\n",
       "      <td>2019-09-20 23:46:43.022078</td>\n",
       "      <td>83/09/17</td>\n",
       "    </tr>\n",
       "    <tr>\n",
       "      <th>12</th>\n",
       "      <td>2019-09-20 23:46:43.024764</td>\n",
       "      <td>83/09/21</td>\n",
       "    </tr>\n",
       "    <tr>\n",
       "      <th>13</th>\n",
       "      <td>2019-09-20 23:46:43.027819</td>\n",
       "      <td>83/09/22</td>\n",
       "    </tr>\n",
       "    <tr>\n",
       "      <th>14</th>\n",
       "      <td>2019-09-20 23:46:43.031303</td>\n",
       "      <td>83/09/23</td>\n",
       "    </tr>\n",
       "    <tr>\n",
       "      <th>15</th>\n",
       "      <td>2019-09-20 23:46:43.034749</td>\n",
       "      <td>83/09/24</td>\n",
       "    </tr>\n",
       "    <tr>\n",
       "      <th>16</th>\n",
       "      <td>2019-09-20 23:46:43.038033</td>\n",
       "      <td>83/09/26</td>\n",
       "    </tr>\n",
       "    <tr>\n",
       "      <th>17</th>\n",
       "      <td>2019-09-20 23:46:43.041454</td>\n",
       "      <td>83/09/27</td>\n",
       "    </tr>\n",
       "    <tr>\n",
       "      <th>18</th>\n",
       "      <td>2019-09-20 23:46:43.044356</td>\n",
       "      <td>83/09/29</td>\n",
       "    </tr>\n",
       "    <tr>\n",
       "      <th>19</th>\n",
       "      <td>2019-09-20 23:46:43.050244</td>\n",
       "      <td>83/09/30</td>\n",
       "    </tr>\n",
       "    <tr>\n",
       "      <th>20</th>\n",
       "      <td>2019-09-20 23:46:43.054495</td>\n",
       "      <td>83/10/01</td>\n",
       "    </tr>\n",
       "    <tr>\n",
       "      <th>21</th>\n",
       "      <td>2019-09-20 23:46:43.057767</td>\n",
       "      <td>83/10/03</td>\n",
       "    </tr>\n",
       "    <tr>\n",
       "      <th>22</th>\n",
       "      <td>2019-09-20 23:46:43.062293</td>\n",
       "      <td>83/10/04</td>\n",
       "    </tr>\n",
       "    <tr>\n",
       "      <th>23</th>\n",
       "      <td>2019-09-20 23:46:43.065875</td>\n",
       "      <td>83/10/05</td>\n",
       "    </tr>\n",
       "    <tr>\n",
       "      <th>24</th>\n",
       "      <td>2019-09-20 23:46:43.069859</td>\n",
       "      <td>83/10/06</td>\n",
       "    </tr>\n",
       "    <tr>\n",
       "      <th>25</th>\n",
       "      <td>2019-09-20 23:46:43.076269</td>\n",
       "      <td>83/10/07</td>\n",
       "    </tr>\n",
       "    <tr>\n",
       "      <th>26</th>\n",
       "      <td>2019-09-20 23:46:43.083014</td>\n",
       "      <td>83/10/08</td>\n",
       "    </tr>\n",
       "    <tr>\n",
       "      <th>27</th>\n",
       "      <td>2019-09-20 23:46:43.086476</td>\n",
       "      <td>83/10/11</td>\n",
       "    </tr>\n",
       "    <tr>\n",
       "      <th>28</th>\n",
       "      <td>2019-09-20 23:46:43.090088</td>\n",
       "      <td>83/10/12</td>\n",
       "    </tr>\n",
       "    <tr>\n",
       "      <th>29</th>\n",
       "      <td>2019-09-20 23:46:43.094601</td>\n",
       "      <td>83/10/13</td>\n",
       "    </tr>\n",
       "    <tr>\n",
       "      <th>...</th>\n",
       "      <td>...</td>\n",
       "      <td>...</td>\n",
       "    </tr>\n",
       "    <tr>\n",
       "      <th>6361</th>\n",
       "      <td>2019-09-20 23:47:23.746124</td>\n",
       "      <td>108/08/08</td>\n",
       "    </tr>\n",
       "    <tr>\n",
       "      <th>6362</th>\n",
       "      <td>2019-09-20 23:47:23.841890</td>\n",
       "      <td>108/08/12</td>\n",
       "    </tr>\n",
       "    <tr>\n",
       "      <th>6363</th>\n",
       "      <td>2019-09-20 23:47:23.848563</td>\n",
       "      <td>108/08/13</td>\n",
       "    </tr>\n",
       "    <tr>\n",
       "      <th>6364</th>\n",
       "      <td>2019-09-20 23:47:23.864035</td>\n",
       "      <td>108/08/14</td>\n",
       "    </tr>\n",
       "    <tr>\n",
       "      <th>6365</th>\n",
       "      <td>2019-09-20 23:47:23.879182</td>\n",
       "      <td>108/08/15</td>\n",
       "    </tr>\n",
       "    <tr>\n",
       "      <th>6366</th>\n",
       "      <td>2019-09-20 23:47:23.891972</td>\n",
       "      <td>108/08/16</td>\n",
       "    </tr>\n",
       "    <tr>\n",
       "      <th>6367</th>\n",
       "      <td>2019-09-20 23:47:23.906842</td>\n",
       "      <td>108/08/19</td>\n",
       "    </tr>\n",
       "    <tr>\n",
       "      <th>6368</th>\n",
       "      <td>2019-09-20 23:47:23.914722</td>\n",
       "      <td>108/08/20</td>\n",
       "    </tr>\n",
       "    <tr>\n",
       "      <th>6369</th>\n",
       "      <td>2019-09-20 23:47:23.921079</td>\n",
       "      <td>108/08/21</td>\n",
       "    </tr>\n",
       "    <tr>\n",
       "      <th>6370</th>\n",
       "      <td>2019-09-20 23:47:23.930361</td>\n",
       "      <td>108/08/22</td>\n",
       "    </tr>\n",
       "    <tr>\n",
       "      <th>6371</th>\n",
       "      <td>2019-09-20 23:47:23.935279</td>\n",
       "      <td>108/08/23</td>\n",
       "    </tr>\n",
       "    <tr>\n",
       "      <th>6372</th>\n",
       "      <td>2019-09-20 23:47:23.943974</td>\n",
       "      <td>108/08/26</td>\n",
       "    </tr>\n",
       "    <tr>\n",
       "      <th>6373</th>\n",
       "      <td>2019-09-20 23:47:23.947945</td>\n",
       "      <td>108/08/27</td>\n",
       "    </tr>\n",
       "    <tr>\n",
       "      <th>6374</th>\n",
       "      <td>2019-09-20 23:47:23.951302</td>\n",
       "      <td>108/08/28</td>\n",
       "    </tr>\n",
       "    <tr>\n",
       "      <th>6375</th>\n",
       "      <td>2019-09-20 23:47:23.955887</td>\n",
       "      <td>108/08/29</td>\n",
       "    </tr>\n",
       "    <tr>\n",
       "      <th>6376</th>\n",
       "      <td>2019-09-20 23:47:23.959812</td>\n",
       "      <td>108/08/30</td>\n",
       "    </tr>\n",
       "    <tr>\n",
       "      <th>6377</th>\n",
       "      <td>2019-09-20 23:47:23.963130</td>\n",
       "      <td>108/09/02</td>\n",
       "    </tr>\n",
       "    <tr>\n",
       "      <th>6378</th>\n",
       "      <td>2019-09-20 23:47:23.966321</td>\n",
       "      <td>108/09/03</td>\n",
       "    </tr>\n",
       "    <tr>\n",
       "      <th>6379</th>\n",
       "      <td>2019-09-20 23:47:23.970427</td>\n",
       "      <td>108/09/04</td>\n",
       "    </tr>\n",
       "    <tr>\n",
       "      <th>6380</th>\n",
       "      <td>2019-09-20 23:47:23.975667</td>\n",
       "      <td>108/09/05</td>\n",
       "    </tr>\n",
       "    <tr>\n",
       "      <th>6381</th>\n",
       "      <td>2019-09-20 23:47:23.978805</td>\n",
       "      <td>108/09/06</td>\n",
       "    </tr>\n",
       "    <tr>\n",
       "      <th>6382</th>\n",
       "      <td>2019-09-20 23:47:23.982351</td>\n",
       "      <td>108/09/09</td>\n",
       "    </tr>\n",
       "    <tr>\n",
       "      <th>6383</th>\n",
       "      <td>2019-09-20 23:47:23.986564</td>\n",
       "      <td>108/09/10</td>\n",
       "    </tr>\n",
       "    <tr>\n",
       "      <th>6384</th>\n",
       "      <td>2019-09-20 23:47:23.990936</td>\n",
       "      <td>108/09/11</td>\n",
       "    </tr>\n",
       "    <tr>\n",
       "      <th>6385</th>\n",
       "      <td>2019-09-20 23:47:23.994147</td>\n",
       "      <td>108/09/12</td>\n",
       "    </tr>\n",
       "    <tr>\n",
       "      <th>6386</th>\n",
       "      <td>2019-09-20 23:47:23.998258</td>\n",
       "      <td>108/09/16</td>\n",
       "    </tr>\n",
       "    <tr>\n",
       "      <th>6387</th>\n",
       "      <td>2019-09-20 23:47:24.010409</td>\n",
       "      <td>108/09/17</td>\n",
       "    </tr>\n",
       "    <tr>\n",
       "      <th>6388</th>\n",
       "      <td>2019-09-20 23:47:24.016635</td>\n",
       "      <td>108/09/18</td>\n",
       "    </tr>\n",
       "    <tr>\n",
       "      <th>6389</th>\n",
       "      <td>2019-09-20 23:47:24.020323</td>\n",
       "      <td>108/09/19</td>\n",
       "    </tr>\n",
       "    <tr>\n",
       "      <th>6390</th>\n",
       "      <td>2019-09-20 23:47:24.023852</td>\n",
       "      <td>108/09/20</td>\n",
       "    </tr>\n",
       "  </tbody>\n",
       "</table>\n",
       "<p>6391 rows × 2 columns</p>\n",
       "</div>"
      ],
      "text/plain": [
       "                      Created_at       Date\n",
       "0     2019-09-20 23:46:42.918175   83/09/05\n",
       "1     2019-09-20 23:46:42.922874   83/09/06\n",
       "2     2019-09-20 23:46:42.930208   83/09/07\n",
       "3     2019-09-20 23:46:42.936231   83/09/08\n",
       "4     2019-09-20 23:46:42.940320   83/09/09\n",
       "5     2019-09-20 23:46:42.944173   83/09/10\n",
       "6     2019-09-20 23:46:42.947211   83/09/12\n",
       "7     2019-09-20 23:46:42.950897   83/09/13\n",
       "8     2019-09-20 23:46:42.958859   83/09/14\n",
       "9     2019-09-20 23:46:42.963615   83/09/15\n",
       "10    2019-09-20 23:46:43.019124   83/09/16\n",
       "11    2019-09-20 23:46:43.022078   83/09/17\n",
       "12    2019-09-20 23:46:43.024764   83/09/21\n",
       "13    2019-09-20 23:46:43.027819   83/09/22\n",
       "14    2019-09-20 23:46:43.031303   83/09/23\n",
       "15    2019-09-20 23:46:43.034749   83/09/24\n",
       "16    2019-09-20 23:46:43.038033   83/09/26\n",
       "17    2019-09-20 23:46:43.041454   83/09/27\n",
       "18    2019-09-20 23:46:43.044356   83/09/29\n",
       "19    2019-09-20 23:46:43.050244   83/09/30\n",
       "20    2019-09-20 23:46:43.054495   83/10/01\n",
       "21    2019-09-20 23:46:43.057767   83/10/03\n",
       "22    2019-09-20 23:46:43.062293   83/10/04\n",
       "23    2019-09-20 23:46:43.065875   83/10/05\n",
       "24    2019-09-20 23:46:43.069859   83/10/06\n",
       "25    2019-09-20 23:46:43.076269   83/10/07\n",
       "26    2019-09-20 23:46:43.083014   83/10/08\n",
       "27    2019-09-20 23:46:43.086476   83/10/11\n",
       "28    2019-09-20 23:46:43.090088   83/10/12\n",
       "29    2019-09-20 23:46:43.094601   83/10/13\n",
       "...                          ...        ...\n",
       "6361  2019-09-20 23:47:23.746124  108/08/08\n",
       "6362  2019-09-20 23:47:23.841890  108/08/12\n",
       "6363  2019-09-20 23:47:23.848563  108/08/13\n",
       "6364  2019-09-20 23:47:23.864035  108/08/14\n",
       "6365  2019-09-20 23:47:23.879182  108/08/15\n",
       "6366  2019-09-20 23:47:23.891972  108/08/16\n",
       "6367  2019-09-20 23:47:23.906842  108/08/19\n",
       "6368  2019-09-20 23:47:23.914722  108/08/20\n",
       "6369  2019-09-20 23:47:23.921079  108/08/21\n",
       "6370  2019-09-20 23:47:23.930361  108/08/22\n",
       "6371  2019-09-20 23:47:23.935279  108/08/23\n",
       "6372  2019-09-20 23:47:23.943974  108/08/26\n",
       "6373  2019-09-20 23:47:23.947945  108/08/27\n",
       "6374  2019-09-20 23:47:23.951302  108/08/28\n",
       "6375  2019-09-20 23:47:23.955887  108/08/29\n",
       "6376  2019-09-20 23:47:23.959812  108/08/30\n",
       "6377  2019-09-20 23:47:23.963130  108/09/02\n",
       "6378  2019-09-20 23:47:23.966321  108/09/03\n",
       "6379  2019-09-20 23:47:23.970427  108/09/04\n",
       "6380  2019-09-20 23:47:23.975667  108/09/05\n",
       "6381  2019-09-20 23:47:23.978805  108/09/06\n",
       "6382  2019-09-20 23:47:23.982351  108/09/09\n",
       "6383  2019-09-20 23:47:23.986564  108/09/10\n",
       "6384  2019-09-20 23:47:23.990936  108/09/11\n",
       "6385  2019-09-20 23:47:23.994147  108/09/12\n",
       "6386  2019-09-20 23:47:23.998258  108/09/16\n",
       "6387  2019-09-20 23:47:24.010409  108/09/17\n",
       "6388  2019-09-20 23:47:24.016635  108/09/18\n",
       "6389  2019-09-20 23:47:24.020323  108/09/19\n",
       "6390  2019-09-20 23:47:24.023852  108/09/20\n",
       "\n",
       "[6391 rows x 2 columns]"
      ]
     },
     "execution_count": 101,
     "metadata": {},
     "output_type": "execute_result"
    }
   ],
   "source": [
    "duration_covered = pd.read_csv('duration_coverage.csv') \n",
    "duration_covered"
   ]
  },
  {
   "cell_type": "code",
   "execution_count": 93,
   "metadata": {},
   "outputs": [],
   "source": [
    "TSMC = pd.read_csv('data/2330.csv', header=None) \n",
    "existed_day = TSMC.iloc[:,0].tolist()\n",
    "for i in existed_day:\n",
    "    duration_covered = duration_covered.append(pd.DataFrame({'Date':[str(i)], 'Created_at':[datetime.now()]}), sort=True)"
   ]
  },
  {
   "cell_type": "code",
   "execution_count": 111,
   "metadata": {},
   "outputs": [
    {
     "data": {
      "text/plain": [
       "'108/09/20'"
      ]
     },
     "execution_count": 111,
     "metadata": {},
     "output_type": "execute_result"
    }
   ],
   "source": [
    "existed_day = duration_covered['Date'].tolist()\n",
    "handling_date = str(first_day.year-1911)+str(first_day.strftime(\"/%m/%d\"))\n",
    "\n",
    "handling_date"
   ]
  }
 ],
 "metadata": {
  "kernelspec": {
   "display_name": "Python 3",
   "language": "python",
   "name": "python3"
  },
  "language_info": {
   "codemirror_mode": {
    "name": "ipython",
    "version": 3
   },
   "file_extension": ".py",
   "mimetype": "text/x-python",
   "name": "python",
   "nbconvert_exporter": "python",
   "pygments_lexer": "ipython3",
   "version": "3.7.3"
  }
 },
 "nbformat": 4,
 "nbformat_minor": 2
}
